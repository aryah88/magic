{
 "cells": [
  {
   "cell_type": "code",
   "execution_count": 1,
   "id": "051e3ef0",
   "metadata": {},
   "outputs": [
    {
     "data": {
      "text/html": [
       "<div><iframe src=\"http://127.0.0.1:7870/\" width=\"100%\" height=\"500\" allow=\"autoplay; camera; microphone; clipboard-read; clipboard-write;\" frameborder=\"0\" allowfullscreen></iframe></div>"
      ],
      "text/plain": [
       "<IPython.core.display.HTML object>"
      ]
     },
     "metadata": {},
     "output_type": "display_data"
    },
    {
     "name": "stdout",
     "output_type": "stream",
     "text": [
      "Running on local URL:  http://127.0.0.1:7870\n",
      "\n",
      "To create a public link, set `share=True` in `launch()`.\n"
     ]
    },
    {
     "data": {
      "text/plain": []
     },
     "execution_count": 1,
     "metadata": {},
     "output_type": "execute_result"
    },
    {
     "name": "stderr",
     "output_type": "stream",
     "text": [
      "C:\\Users\\91990\\AppData\\Local\\Temp\\ipykernel_21820\\3894955948.py:70: FutureWarning: The frame.append method is deprecated and will be removed from pandas in a future version. Use pandas.concat instead.\n",
      "  transactions_df = transactions_df.append({'Transaction Type': 'Withdraw', 'Amount': amt, 'Balance': balance}, ignore_index=True)\n"
     ]
    }
   ],
   "source": [
    "import gradio as gr\n",
    "import pandas as pd\n",
    "from gtts import gTTS\n",
    "import os\n",
    "\n",
    "# User data (PIN, name, balance)\n",
    "users = {\n",
    "    123456: {'name': 'User1', 'balance': 10000},\n",
    "    654321: {'name': 'User2', 'balance': 15000}\n",
    "}\n",
    "\n",
    "current_user = None\n",
    "\n",
    "# File path for storing transaction history\n",
    "def get_transaction_file():\n",
    "    \"\"\"Return the path to the transaction CSV file for the current user.\"\"\"\n",
    "    return f\"{current_user['name']}_transactions.csv\"\n",
    "\n",
    "def load_transactions():\n",
    "    \"\"\"Load the transaction history from the CSV file.\"\"\"\n",
    "    file_path = get_transaction_file()\n",
    "    if os.path.exists(file_path):\n",
    "        return pd.read_csv(file_path)\n",
    "    else:\n",
    "        return pd.DataFrame(columns=['Transaction Type', 'Amount', 'Balance'])\n",
    "\n",
    "def save_transactions(transactions_df):\n",
    "    \"\"\"Save the transaction history to the CSV file.\"\"\"\n",
    "    file_path = get_transaction_file()\n",
    "    transactions_df.to_csv(file_path, index=False)\n",
    "\n",
    "def print_passbook():\n",
    "    \"\"\"Display the user's passbook in a DataFrame format and return an audio narration.\"\"\"\n",
    "    transactions_df = load_transactions()\n",
    "    \n",
    "    if transactions_df.empty:\n",
    "        text = \"No transactions yet.\"\n",
    "        return transactions_df, create_audio(text)\n",
    "    \n",
    "    # Generate the text for speech\n",
    "    text = \"Here is your passbook: \\n\"\n",
    "    for _, row in transactions_df.iterrows():\n",
    "        text += f\"{row['Transaction Type']} of {row['Amount']}. Balance after transaction: {row['Balance']}.\\n\"\n",
    "    \n",
    "    # Create the audio from the text\n",
    "    audio_path = create_audio(text)\n",
    "    return transactions_df, audio_path\n",
    "\n",
    "def create_audio(text):\n",
    "    \"\"\"Convert text to speech using gTTS and return the audio file path.\"\"\"\n",
    "    tts = gTTS(text)\n",
    "    audio_path = \"passbook_audio.mp3\"\n",
    "    tts.save(audio_path)\n",
    "    return audio_path\n",
    "\n",
    "def op(choice, amt=0):\n",
    "    \"\"\"Main operation for handling user transactions.\"\"\"\n",
    "    global current_user\n",
    "    balance = current_user['balance']\n",
    "    transactions_df = load_transactions()\n",
    "    \n",
    "    if choice == \"Deposit\":\n",
    "        balance += amt\n",
    "        transactions_df = transactions_df.append({'Transaction Type': 'Deposit', 'Amount': amt, 'Balance': balance}, ignore_index=True)\n",
    "        save_transactions(transactions_df)\n",
    "        return f\"Deposit successful! New balance: {balance}\", transactions_df, None\n",
    "    elif choice == \"Withdraw\":\n",
    "        if amt <= balance:\n",
    "            balance -= amt\n",
    "            transactions_df = transactions_df.append({'Transaction Type': 'Withdraw', 'Amount': amt, 'Balance': balance}, ignore_index=True)\n",
    "            save_transactions(transactions_df)\n",
    "            return f\"Withdrawal successful! New balance: {balance}\", transactions_df, None\n",
    "        else:\n",
    "            return \"Insufficient balance!\", transactions_df, None\n",
    "    elif choice == \"Balance Enquiry\":\n",
    "        return f\"Your current balance is: {balance}\", transactions_df, None\n",
    "    elif choice == \"Passbook\":\n",
    "        # Return the DataFrame of transactions and audio narration\n",
    "        passbook_df, audio_path = print_passbook()\n",
    "        return \"Here is your passbook:\", passbook_df, audio_path\n",
    "    elif choice == \"Exit\":\n",
    "        return \"Thank you! Exiting the system.\", transactions_df, None\n",
    "    else:\n",
    "        return \"Invalid choice.\", transactions_df, None\n",
    "\n",
    "def login(pin):\n",
    "    \"\"\"Login function to handle user authentication.\"\"\"\n",
    "    global current_user\n",
    "    if pin in users:\n",
    "        current_user = users[pin]\n",
    "        return f\"Logged in successfully as {current_user['name']}!\"\n",
    "    else:\n",
    "        return \"Incorrect PIN. Please try again.\"\n",
    "\n",
    "def atm_interface(pin, choice, amt):\n",
    "    \"\"\"Handle the entire ATM interface logic.\"\"\"\n",
    "    login_message = login(pin)\n",
    "    if \"successfully\" in login_message:\n",
    "        result_text, result_df, audio_path = op(choice, amt)\n",
    "        return login_message + \"\\n\" + result_text, result_df, audio_path\n",
    "    else:\n",
    "        return login_message, pd.DataFrame(), None\n",
    "\n",
    "# Set up Gradio inputs and outputs\n",
    "pin_input = gr.Number(label=\"Enter PIN\")\n",
    "choice_input = gr.Radio([\"Deposit\", \"Withdraw\", \"Balance Enquiry\", \"Passbook\", \"Exit\"], label=\"Choose an Operation\")\n",
    "amount_input = gr.Number(label=\"Enter Amount\", value=0)\n",
    "\n",
    "output_text = gr.Textbox()\n",
    "output_dataframe = gr.Dataframe()\n",
    "output_audio = gr.Audio()\n",
    "\n",
    "# Create the Gradio interface\n",
    "gr.Interface(fn=atm_interface, \n",
    "             inputs=[pin_input, choice_input, amount_input], \n",
    "             outputs=[output_text, output_dataframe, output_audio]).launch()\n",
    "\n",
    "\n",
    "\n"
   ]
  },
  {
   "cell_type": "code",
   "execution_count": null,
   "id": "0ad91a06",
   "metadata": {},
   "outputs": [],
   "source": []
  }
 ],
 "metadata": {
  "kernelspec": {
   "display_name": "Python 3 (ipykernel)",
   "language": "python",
   "name": "python3"
  },
  "language_info": {
   "codemirror_mode": {
    "name": "ipython",
    "version": 3
   },
   "file_extension": ".py",
   "mimetype": "text/x-python",
   "name": "python",
   "nbconvert_exporter": "python",
   "pygments_lexer": "ipython3",
   "version": "3.9.12"
  }
 },
 "nbformat": 4,
 "nbformat_minor": 5
}
